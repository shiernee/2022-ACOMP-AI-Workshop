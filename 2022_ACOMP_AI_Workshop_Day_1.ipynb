{
  "nbformat": 4,
  "nbformat_minor": 0,
  "metadata": {
    "colab": {
      "provenance": [],
      "authorship_tag": "ABX9TyObdH0ypQhDsU0MYsw4h+iy",
      "include_colab_link": true
    },
    "kernelspec": {
      "name": "python3",
      "display_name": "Python 3"
    },
    "language_info": {
      "name": "python"
    }
  },
  "cells": [
    {
      "cell_type": "markdown",
      "metadata": {
        "id": "view-in-github",
        "colab_type": "text"
      },
      "source": [
        "<a href=\"https://colab.research.google.com/github/shiernee/2022-ACOMP-AI-Workshop/blob/main/2022_ACOMP_AI_Workshop_Day_1.ipynb\" target=\"_parent\"><img src=\"https://colab.research.google.com/assets/colab-badge.svg\" alt=\"Open In Colab\"/></a>"
      ]
    },
    {
      "cell_type": "markdown",
      "source": [
        "#**Part 1: Google Colab Introductory Workshop**\n",
        "\n",
        "The first part of the workshop will introduce important features in available in Colab.\n",
        "\n",
        "Colab is an interactive coding enviroment to get start to code easily. The code can be executed easily by click the play button on the cell.\n",
        "\n",
        "Let's get started."
      ],
      "metadata": {
        "id": "doGy92D3RHlz"
      }
    },
    {
      "cell_type": "markdown",
      "source": [
        "Let's try to print Hello World"
      ],
      "metadata": {
        "id": "RYkcfIrNW-pn"
      }
    },
    {
      "cell_type": "code",
      "execution_count": null,
      "metadata": {
        "id": "1NVGMngKQ5DA"
      },
      "outputs": [],
      "source": [
        "print('Hello World')"
      ]
    },
    {
      "cell_type": "code",
      "source": [
        "# It's your turn to try. \n",
        "# Print your name. \n",
        "# Type your code below and click the play button to execute the cell. \n",
        "# You should see you name appear."
      ],
      "metadata": {
        "id": "Sp7OBc3MXCGc"
      },
      "execution_count": null,
      "outputs": []
    },
    {
      "cell_type": "code",
      "source": [
        "#@title Solution\n",
        "print('Kenta Shin')"
      ],
      "metadata": {
        "cellView": "form",
        "id": "lm_C2tyqXDph"
      },
      "execution_count": null,
      "outputs": []
    },
    {
      "cell_type": "markdown",
      "source": [
        "Perform Calculation"
      ],
      "metadata": {
        "id": "0CMWSAnjXAZn"
      }
    },
    {
      "cell_type": "code",
      "source": [
        "seconds_in_a_day = 24 * 60 * 60\n",
        "seconds_in_a_day"
      ],
      "metadata": {
        "id": "uYAr_MeWXJsF"
      },
      "execution_count": null,
      "outputs": []
    },
    {
      "cell_type": "code",
      "source": [
        "# It's your turn to try. \n",
        "# Perform calculation of 45 divided by 20 and then multiplies by 8\n",
        "# Type your code below and click the play button to execute the cell. \n",
        "# You should get an answer of 18."
      ],
      "metadata": {
        "id": "aXE7DLVmXLLV"
      },
      "execution_count": null,
      "outputs": []
    },
    {
      "cell_type": "code",
      "source": [
        "#@title Solution\n",
        "45/20*8"
      ],
      "metadata": {
        "cellView": "form",
        "id": "JHJW-WWsXNhm"
      },
      "execution_count": null,
      "outputs": []
    },
    {
      "cell_type": "markdown",
      "source": [
        "Create a Loop"
      ],
      "metadata": {
        "id": "hGLzC8LDXM0z"
      }
    },
    {
      "cell_type": "code",
      "source": [
        "# Creating a loop \n",
        "# Python always start from zero\n",
        "# range(start, end, step)\n",
        "\n",
        "for i in range(10):\n",
        "  print(i)"
      ],
      "metadata": {
        "id": "TOfhO-L8XR2a"
      },
      "execution_count": null,
      "outputs": []
    },
    {
      "cell_type": "code",
      "source": [
        "# It's your turn to try. \n",
        "# Create a loop to print from 2 to 10 \n",
        "# Type your code below and click the play button to execute the cell. \n",
        "# You should get an answer of 2,3,4,5,6,7,8,9,10."
      ],
      "metadata": {
        "id": "kjlDYEGzXTwa"
      },
      "execution_count": null,
      "outputs": []
    },
    {
      "cell_type": "code",
      "source": [
        "#@title Solution\n",
        "for i in range(2, 11):\n",
        "  print(i)"
      ],
      "metadata": {
        "cellView": "form",
        "id": "CEB3OThpXVUZ"
      },
      "execution_count": null,
      "outputs": []
    },
    {
      "cell_type": "code",
      "source": [
        "# It's your turn to try. \n",
        "# Create a loop to print from 2 to 10, by skipping 2\n",
        "# Type your code below and click the play button to execute the cell. \n",
        "# You should get an answer of 2,4,6,8,10"
      ],
      "metadata": {
        "id": "8-fdicu9XZDd"
      },
      "execution_count": null,
      "outputs": []
    },
    {
      "cell_type": "code",
      "source": [
        "#@title Solution\n",
        "for i in range(2, 11, 2):\n",
        "  print(i)"
      ],
      "metadata": {
        "cellView": "form",
        "id": "t5KMt_dXXamB"
      },
      "execution_count": null,
      "outputs": []
    },
    {
      "cell_type": "markdown",
      "source": [
        "Create a list of values"
      ],
      "metadata": {
        "id": "MiPBij4KXeKW"
      }
    },
    {
      "cell_type": "code",
      "source": [
        "# Create a list of value from 0 to 9\n",
        "x = []\n",
        "for i in range(10):\n",
        "  x.append(i)\n",
        "\n",
        "print(x)"
      ],
      "metadata": {
        "colab": {
          "base_uri": "https://localhost:8080/"
        },
        "id": "gzFicaUaXdeB",
        "outputId": "50b15af7-8d63-451d-d472-36be98f36514"
      },
      "execution_count": 17,
      "outputs": [
        {
          "output_type": "stream",
          "name": "stdout",
          "text": [
            "[0, 1, 2, 3, 4, 5, 6, 7, 8, 9]\n"
          ]
        }
      ]
    },
    {
      "cell_type": "code",
      "source": [
        "# Another compact way to create a list of value\n",
        "x = [x for x in range(10)]\n",
        "print(x)"
      ],
      "metadata": {
        "colab": {
          "base_uri": "https://localhost:8080/"
        },
        "id": "8xKP6gfmXgwJ",
        "outputId": "a4a688a5-9b3c-4145-ff04-8ac73b10354d"
      },
      "execution_count": 18,
      "outputs": [
        {
          "output_type": "stream",
          "name": "stdout",
          "text": [
            "[0, 1, 2, 3, 4, 5, 6, 7, 8, 9]\n"
          ]
        }
      ]
    },
    {
      "cell_type": "code",
      "source": [
        "# make list to numpy array\n",
        "import numpy as np\n",
        "\n",
        "x = np.array(x)\n",
        "x\n"
      ],
      "metadata": {
        "colab": {
          "base_uri": "https://localhost:8080/"
        },
        "id": "j_i27iGv7-D-",
        "outputId": "af4802da-b9e4-4884-9790-8e2a79e76d9b"
      },
      "execution_count": 20,
      "outputs": [
        {
          "output_type": "execute_result",
          "data": {
            "text/plain": [
              "array([0, 1, 2, 3, 4, 5, 6, 7, 8, 9])"
            ]
          },
          "metadata": {},
          "execution_count": 20
        }
      ]
    },
    {
      "cell_type": "code",
      "source": [
        "# check the shape of the array\n",
        "x.shape"
      ],
      "metadata": {
        "colab": {
          "base_uri": "https://localhost:8080/"
        },
        "id": "oy9K520R8bJp",
        "outputId": "6205b944-2749-4ac6-e468-20e1348b6826"
      },
      "execution_count": 21,
      "outputs": [
        {
          "output_type": "execute_result",
          "data": {
            "text/plain": [
              "(10,)"
            ]
          },
          "metadata": {},
          "execution_count": 21
        }
      ]
    },
    {
      "cell_type": "code",
      "source": [
        "# It's your turn to try. \n",
        "# Create a list of numpy value ranging from 2 to 10, by skipping 2\n",
        "# Type your code below and click the play button to execute the cell. \n",
        "# Print out the list. You should get [2,4,6,8,10]\n",
        "# check the shape "
      ],
      "metadata": {
        "id": "UbN1TVdgXjNi"
      },
      "execution_count": null,
      "outputs": []
    },
    {
      "cell_type": "code",
      "source": [
        "#@title Solution\n",
        "\n",
        "x = [x for x in range(2, 11, 2)]\n",
        "x = np.array(x)\n",
        "print(x)"
      ],
      "metadata": {
        "cellView": "form",
        "id": "VAY_d52UXk5h"
      },
      "execution_count": null,
      "outputs": []
    },
    {
      "cell_type": "markdown",
      "source": [
        "Graph Visualization"
      ],
      "metadata": {
        "id": "rpc5Nl1UXiTi"
      }
    },
    {
      "cell_type": "code",
      "source": [
        "# We need to import packages\n",
        "# numpy for creating array and matplotlib for plotting \n",
        "\n",
        "import numpy as np\n",
        "from matplotlib import pyplot as plt\n",
        "\n",
        "ys = 200 + np.random.randn(100)  # create random numbers with a length of 100\n",
        "x = [x for x in range(len(ys))]\n",
        "x = np.array(x)\n",
        "\n",
        "plt.plot(x, ys, '-')\n",
        "plt.title(\"Sample Visualization\")\n",
        "plt.xlabel('x')\n",
        "plt.ylabel('y')\n",
        "plt.show()"
      ],
      "metadata": {
        "id": "2lgeNO16Xo0t"
      },
      "execution_count": null,
      "outputs": []
    },
    {
      "cell_type": "code",
      "source": [
        "# It's your turn to try. \n",
        "# Create a list of x-value ranging from 0 to 500, by skipping 2\n",
        "# Create a list of y-value using the formula y = 5x^2 \n",
        "# square --> **; multiple --> *, divide --> /, plus --> +, minus --> -\n",
        "# Type your code below and click the play button to execute the cell."
      ],
      "metadata": {
        "id": "VZfCIHRAXqRX"
      },
      "execution_count": null,
      "outputs": []
    },
    {
      "cell_type": "code",
      "source": [
        "#@title Solution\n",
        "import numpy as np\n",
        "from matplotlib import pyplot as plt\n",
        "\n",
        "x = [x for x in range(0, 501, 2)]\n",
        "x = np.array(x)\n",
        "ys = 5*(x**2)\n",
        "\n",
        "plt.plot(x, ys, '-')\n",
        "plt.title(\"Sample Visualization\")\n",
        "plt.xlabel('x')\n",
        "plt.ylabel('y')\n",
        "plt.show()"
      ],
      "metadata": {
        "cellView": "form",
        "id": "JViL1roOXsD2"
      },
      "execution_count": null,
      "outputs": []
    },
    {
      "cell_type": "markdown",
      "source": [
        "Uploading files from your local file system\n",
        "files.upload returns a dictionary of the files which were uploaded. The dictionary is keyed by the file name and values are the data which were uploaded.\n",
        "\n",
        "Refresh the folder in the left panel and you will the dataset you have uploaded."
      ],
      "metadata": {
        "id": "11EO4UrfXwHX"
      }
    },
    {
      "cell_type": "code",
      "source": [
        "from google.colab import files\n",
        "\n",
        "uploaded = files.upload()\n",
        "\n",
        "for fn in uploaded.keys():\n",
        "  print('User uploaded file \"{name}\" with length {length} bytes'.format(\n",
        "      name=fn, length=len(uploaded[fn])))"
      ],
      "metadata": {
        "id": "NAfooYvnXul7"
      },
      "execution_count": null,
      "outputs": []
    },
    {
      "cell_type": "markdown",
      "source": [
        "#**Part 2: Classification of using Breast Cancer Data**\n",
        "\n",
        "Let's build a Decision Tree classifier to predict breast cancer. "
      ],
      "metadata": {
        "id": "smPTj_waXzuP"
      }
    },
    {
      "cell_type": "code",
      "source": [
        "# https://scikit-learn.org/stable/datasets/toy_dataset.html#breast-cancer-dataset\n",
        "\n",
        "from sklearn import datasets\n",
        "\n",
        "breast_data = datasets.load_breast_cancer()\n"
      ],
      "metadata": {
        "id": "mEpnLRHn7Yg1"
      },
      "execution_count": 34,
      "outputs": []
    },
    {
      "cell_type": "markdown",
      "source": [
        "1.   Look at the data\n",
        "2.   Find out the input X and target y\n",
        "\n"
      ],
      "metadata": {
        "id": "dkTkVPDX9G9-"
      }
    },
    {
      "cell_type": "code",
      "source": [
        "X = breast_data.data\n",
        "X"
      ],
      "metadata": {
        "id": "5DCCFFGE7hXS"
      },
      "execution_count": null,
      "outputs": []
    },
    {
      "cell_type": "code",
      "source": [
        "X.shape"
      ],
      "metadata": {
        "colab": {
          "base_uri": "https://localhost:8080/"
        },
        "id": "QMDdtMRF75RA",
        "outputId": "97ba0221-0fba-405d-ef40-63994686045c"
      },
      "execution_count": 28,
      "outputs": [
        {
          "output_type": "execute_result",
          "data": {
            "text/plain": [
              "(569, 30)"
            ]
          },
          "metadata": {},
          "execution_count": 28
        }
      ]
    },
    {
      "cell_type": "code",
      "source": [
        "y = breast_data.target\n",
        "y"
      ],
      "metadata": {
        "id": "LvaszpN17zDU"
      },
      "execution_count": null,
      "outputs": []
    },
    {
      "cell_type": "code",
      "source": [
        "y.shape"
      ],
      "metadata": {
        "colab": {
          "base_uri": "https://localhost:8080/"
        },
        "id": "_R8GLobo8v9o",
        "outputId": "0e2fae46-5d04-4327-f13f-50699c626795"
      },
      "execution_count": 35,
      "outputs": [
        {
          "output_type": "execute_result",
          "data": {
            "text/plain": [
              "357"
            ]
          },
          "metadata": {},
          "execution_count": 35
        }
      ]
    },
    {
      "cell_type": "code",
      "source": [
        "breast_data.target_names"
      ],
      "metadata": {
        "colab": {
          "base_uri": "https://localhost:8080/"
        },
        "id": "hg6qf6mw9msQ",
        "outputId": "5b166eba-0447-43ea-9455-30493b34989f"
      },
      "execution_count": 32,
      "outputs": [
        {
          "output_type": "execute_result",
          "data": {
            "text/plain": [
              "array(['malignant', 'benign'], dtype='<U9')"
            ]
          },
          "metadata": {},
          "execution_count": 32
        }
      ]
    },
    {
      "cell_type": "markdown",
      "source": [
        "*   We have 569 samples, 30 features\n",
        "*   y = 0 = malignant, 1 - benign \n",
        "\n"
      ],
      "metadata": {
        "id": "lV2xHl2y9SCZ"
      }
    },
    {
      "cell_type": "code",
      "source": [
        "# split data into train and test \n",
        "from sklearn.model_selection import train_test_split\n",
        "\n",
        "X_train, X_test, y_train, y_test = train_test_split(X, y, test_size=0.33, random_state=42)\n",
        "print('X_train shape: ', X_train.shape)\n",
        "print('X_test shape: ', X_test.shape)"
      ],
      "metadata": {
        "colab": {
          "base_uri": "https://localhost:8080/"
        },
        "id": "N5p9_kV2-G9U",
        "outputId": "03beb258-efc3-4cfb-f21a-874b85e65dec"
      },
      "execution_count": 36,
      "outputs": [
        {
          "output_type": "stream",
          "name": "stdout",
          "text": [
            "(381, 30)\n",
            "(188, 30)\n"
          ]
        }
      ]
    },
    {
      "cell_type": "code",
      "source": [
        "# model building \n",
        "from sklearn.tree import DecisionTreeClassifier\n",
        "\n",
        "clf = DecisionTreeClassifier()\n",
        "clf.fit(X_train, y_train)\n",
        "\n"
      ],
      "metadata": {
        "colab": {
          "base_uri": "https://localhost:8080/"
        },
        "id": "UUR_XHOv-3SH",
        "outputId": "b0e1ba3f-fda4-4b98-92f4-808b10344fd4"
      },
      "execution_count": 38,
      "outputs": [
        {
          "output_type": "execute_result",
          "data": {
            "text/plain": [
              "DecisionTreeClassifier()"
            ]
          },
          "metadata": {},
          "execution_count": 38
        }
      ]
    },
    {
      "cell_type": "code",
      "source": [
        "#Predict the response for test dataset\n",
        "y_pred = clf.predict(X_test)\n",
        "y_pred"
      ],
      "metadata": {
        "colab": {
          "base_uri": "https://localhost:8080/"
        },
        "id": "p_1_EC8K_F9-",
        "outputId": "4c685e1d-c73f-4790-a8ac-8a7ce9498637"
      },
      "execution_count": 43,
      "outputs": [
        {
          "output_type": "execute_result",
          "data": {
            "text/plain": [
              "array([1, 0, 0, 1, 1, 0, 0, 0, 0, 1, 1, 0, 1, 0, 1, 0, 1, 1, 1, 0, 1, 1,\n",
              "       0, 1, 1, 0, 1, 1, 1, 0, 1, 1, 1, 1, 1, 1, 1, 1, 0, 1, 1, 0, 1, 1,\n",
              "       1, 1, 0, 1, 1, 1, 0, 0, 1, 1, 1, 1, 1, 0, 0, 1, 1, 0, 0, 1, 1, 1,\n",
              "       0, 0, 1, 1, 0, 0, 1, 0, 1, 1, 1, 0, 1, 1, 0, 1, 1, 0, 1, 0, 0, 0,\n",
              "       1, 1, 1, 1, 1, 1, 1, 1, 0, 0, 1, 0, 0, 1, 0, 0, 1, 1, 1, 0, 0, 1,\n",
              "       0, 1, 1, 0, 1, 0, 1, 0, 1, 0, 1, 1, 1, 0, 1, 0, 0, 1, 1, 0, 0, 0,\n",
              "       0, 1, 1, 0, 0, 1, 0, 0, 1, 0, 1, 1, 0, 1, 0, 0, 0, 1, 0, 1, 1, 1,\n",
              "       1, 0, 0, 1, 1, 1, 0, 1, 1, 1, 1, 1, 1, 1, 1, 0, 1, 0, 1, 0, 1, 1,\n",
              "       1, 1, 1, 1, 1, 0, 1, 0, 0, 0, 1, 1])"
            ]
          },
          "metadata": {},
          "execution_count": 43
        }
      ]
    },
    {
      "cell_type": "code",
      "source": [
        "# Model Evaluation\n",
        "from sklearn import metrics\n",
        "\n",
        "print(\"Testing Accuracy:\",metrics.accuracy_score(y_test, y_pred))"
      ],
      "metadata": {
        "colab": {
          "base_uri": "https://localhost:8080/"
        },
        "id": "3hskxIqM_Lxm",
        "outputId": "db197c6f-9d57-4893-f2ce-af42153c32d3"
      },
      "execution_count": 42,
      "outputs": [
        {
          "output_type": "stream",
          "name": "stdout",
          "text": [
            "Accuracy: 0.9042553191489362\n"
          ]
        }
      ]
    },
    {
      "cell_type": "code",
      "source": [
        "#Get the probability the response for test dataset\n",
        "y_pred_prob = clf.predict_proba(X_test)\n",
        "y_pred_prob"
      ],
      "metadata": {
        "id": "CioCIwc0_gM0"
      },
      "execution_count": null,
      "outputs": []
    },
    {
      "cell_type": "code",
      "source": [
        "# It's your turn to try. \n",
        "# Now use Support Vector Machine as your model. \n",
        "# Find out what is SVM testing accuracy\n",
        "# https://scikit-learn.org/stable/modules/svm.html \n",
        "\n"
      ],
      "metadata": {
        "id": "T0zNtXmN_8u7"
      },
      "execution_count": null,
      "outputs": []
    },
    {
      "cell_type": "code",
      "source": [
        "#@title Solution\n",
        "from sklearn import svm\n",
        "\n",
        "breast_data = datasets.load_breast_cancer()\n",
        "X = breast_data.data\n",
        "y = breast_data.target\n",
        "\n",
        "# split data into train and test \n",
        "X_train, X_test, y_train, y_test = train_test_split(X, y, test_size=0.33, random_state=42)\n",
        "\n",
        "# model building \n",
        "clf = svm.SVC()\n",
        "clf.fit(X, y)\n",
        "\n",
        "#Predict the response for test dataset\n",
        "y_pred = clf.predict(X_test)\n",
        "\n",
        "# Model Evaluation\n",
        "print(\"SVM Testing Accuracy:\",metrics.accuracy_score(y_test, y_pred))"
      ],
      "metadata": {
        "cellView": "form",
        "id": "7UKBXherAG3s"
      },
      "execution_count": null,
      "outputs": []
    }
  ]
}